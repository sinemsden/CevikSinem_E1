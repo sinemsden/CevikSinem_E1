{
 "cells": [
  {
   "cell_type": "markdown",
   "metadata": {},
   "source": [
    "# File I/O"
   ]
  },
  {
   "cell_type": "markdown",
   "metadata": {},
   "source": [
    "## 7.1"
   ]
  },
  {
   "cell_type": "code",
   "execution_count": 2,
   "metadata": {},
   "outputs": [],
   "source": [
    "def open_print(filename):\n",
    "    f = open(\"log.txt\", \"r\")\n",
    "    for x in f:\n",
    "        print(x)\n",
    "        \n",
    "open_print(\"log.txt\")"
   ]
  },
  {
   "cell_type": "markdown",
   "metadata": {},
   "source": [
    "## 7.2"
   ]
  },
  {
   "cell_type": "code",
   "execution_count": 20,
   "metadata": {},
   "outputs": [
    {
     "name": "stdout",
     "output_type": "stream",
     "text": [
      "[('the', 23407), ('I', 19540), ('and', 18358), ('to', 15682), ('of', 15649), ('a', 12586), ('my', 10825), ('in', 9633), ('you', 9129), ('is', 7874), ('that', 7543), ('And', 7068), ('not', 6967), ('with', 6771), ('his', 6218), ('be', 6017), ('your', 6016), ('for', 5629), ('have', 5236), ('it', 4920)]\n"
     ]
    }
   ],
   "source": [
    "from collections import Counter\n",
    "\n",
    "with open(\"C:/Users/Sinem Çevik/Desktop/shakespeare.txt\") as file:\n",
    "    count = Counter(word for line in file\n",
    "                         for word in line.split())\n",
    "\n",
    "print(count.most_common(20))"
   ]
  },
  {
   "cell_type": "code",
   "execution_count": 21,
   "metadata": {},
   "outputs": [
    {
     "name": "stdout",
     "output_type": "stream",
     "text": [
      "67779\n"
     ]
    }
   ],
   "source": [
    "print(len(count.items()))"
   ]
  },
  {
   "cell_type": "code",
   "execution_count": 24,
   "metadata": {},
   "outputs": [
    {
     "name": "stdout",
     "output_type": "stream",
     "text": [
      "12051\n"
     ]
    }
   ],
   "source": [
    "print(len({k:v for (k,v) in count.items() if v > 5}))   "
   ]
  },
  {
   "cell_type": "code",
   "execution_count": 19,
   "metadata": {},
   "outputs": [
    {
     "name": "stdout",
     "output_type": "stream",
     "text": [
      "[('the', 23407), ('I', 19540), ('and', 18358), ('to', 15682), ('of', 15649), ('a', 12586), ('my', 10825), ('in', 9633), ('you', 9129), ('is', 7874), ('that', 7543), ('And', 7068), ('not', 6967), ('with', 6771), ('his', 6218), ('be', 6017), ('your', 6016), ('for', 5629), ('have', 5236), ('it', 4920), ('me', 4832), ('this', 4809), ('he', 4548), ('as', 4280), ('thou', 4247), ('will', 4055), ('The', 3977), ('thy', 3630), ('but', 3565), ('him', 3087), ('To', 3068), ('shall', 3018), ('so', 2962), ('are', 2940), ('all', 2933), ('do', 2846), ('by', 2840), ('her', 2822), ('That', 2734), ('our', 2692), ('we', 2491), ('on', 2453), ('no', 2439), ('But', 2322), ('from', 2298), ('at', 2227), ('good', 2046), ('what', 2020), ('am', 1995), ('would', 1974), ('their', 1936), ('Enter', 1926), ('was', 1890), ('they', 1855), ('A', 1850), ('if', 1830), ('What', 1814), ('or', 1794), ('thee', 1780), (\"I'll\", 1737), ('For', 1699), ('If', 1642), ('My', 1631), ('she', 1624), ('hath', 1614), ('more', 1606), ('an', 1555), ('You', 1530), ('OF', 1500), ('than', 1453), ('like', 1452), ('make', 1436), ('you,', 1428), ('As', 1390), ('should', 1387), ('which', 1343), ('may', 1341), ('know', 1341), ('upon', 1339), ('He', 1338), ('must', 1318), ('were', 1311), ('them', 1305), ('one', 1300), ('let', 1287), ('did', 1256), ('such', 1229), ('had', 1222), ('me,', 1214), ('love', 1212), ('when', 1178), ('O', 1167), ('now', 1126), ('This', 1110), ('In', 1096), ('How', 1092), ('see', 1084), ('us', 1076), ('some', 1071), ('come', 1062), (\"th'\", 1058), ('say', 1050), ('these', 1037), ('man', 1016), ('O,', 1005), ('With', 988), ('can', 984), ('Of', 977), ('take', 966), ('give', 964), ('most', 964), ('then', 956), ('It', 956), ('sir,', 955), ('how', 935), ('here', 932), ('KING', 931), ('yet', 930), ('out', 927), ('there', 914), ('So', 908), ('Thou', 890), ('lord,', 890), ('never', 865), ('go', 865), ('much', 852), ('well', 850), ('Is', 849), ('Exeunt', 838), ('me.', 823), ('Which', 817), ('When', 814), ('tell', 813), ('you.', 811), ('By', 807), ('Let', 802), ('think', 791), ('doth', 789), ('up', 784), ('it.', 784), ('mine', 779), ('great', 758), ('very', 756), ('him.', 754), ('Why,', 745), (\"'tis\", 731), ('Exit', 727), ('art', 726), ('too', 720), ('We', 719), ('any', 697), ('him,', 695), ('speak', 691), ('cannot', 680), ('made', 680), ('OR', 678), ('AND', 673), ('FOR', 672), ('time', 671), ('BY', 663), ('own', 659), ('hear', 655), ('King', 645), ('Your', 641), ('been', 639), (\"'Tis\", 636), ('Or', 628), ('Come,', 628), ('SCENE', 619), ('FIRST', 617), ('Ay,', 612), ('nor', 610), ('where', 608), ('thee,', 594), ('Then', 581), ('sweet', 580), ('fair', 569), ('two', 569), ('other', 555), ('Who', 553), ('Lord', 547), ('noble', 547), ('Where', 546), ('into', 545), ('old', 537), ('could', 534), ('His', 531), ('it,', 529), ('being', 526), ('heart', 526), ('men', 525), ('Good', 514), ('No,', 513), ('hast', 510), ('ever', 510), ('God', 510), ('poor', 506), ('look', 499), ('Nay,', 499), ('many', 494)]\n"
     ]
    }
   ],
   "source": [
    "f = open(\"mye.txt\", \"x\")\n",
    "f.write(str(count.most_common(200)))\n",
    "f.close()\n",
    "\n",
    "f = open(\"mye.txt\", \"r\")\n",
    "print(f.read())"
   ]
  },
  {
   "cell_type": "markdown",
   "metadata": {},
   "source": [
    "## 7.3"
   ]
  },
  {
   "cell_type": "markdown",
   "metadata": {},
   "source": [
    "## 7.4"
   ]
  },
  {
   "cell_type": "code",
   "execution_count": 37,
   "metadata": {},
   "outputs": [],
   "source": [
    "import random\n",
    "\n",
    "def generate_numab(n,a,b,filename):\n",
    "    new_file = open(filename, 'w')\n",
    "    for i in range(n):\n",
    "        new_file.write(str(random.randint(a,b)) + \"\\n\")\n",
    "    new_file.close() "
   ]
  },
  {
   "cell_type": "code",
   "execution_count": 38,
   "metadata": {},
   "outputs": [],
   "source": [
    "def read_numab(filename):\n",
    "    new_file = open(filename,'r')\n",
    "    result = []\n",
    "    for line in new_file:\n",
    "        result.append(int(line))\n",
    "    new_file.close()\n",
    "    return result"
   ]
  },
  {
   "cell_type": "code",
   "execution_count": 42,
   "metadata": {},
   "outputs": [],
   "source": [
    "def sum_problem(filename,filename1,k):\n",
    "    elem = read_numab(filename)\n",
    "    elem1 = read_numab(filename1)\n",
    "    u = []\n",
    "    v = []\n",
    "    for i in elem:\n",
    "        for j in elem1:\n",
    "            if (i+j) == k:\n",
    "                u.append(int(i))\n",
    "                v.append(int(j))\n",
    "    print(u)\n",
    "    print(v)"
   ]
  },
  {
   "cell_type": "code",
   "execution_count": 43,
   "metadata": {},
   "outputs": [
    {
     "name": "stdout",
     "output_type": "stream",
     "text": [
      "[1724, 2528, 2528, 1551, 1551, 1389, 297, 4372, 3019, 1470, 3713, 2947, 4736, 2340, 2959, 3616, 608, 2528, 2528, 1880, 117, 64, 4099, 3461, 4671, 2105, 83, 2808, 1011, 2697, 4358, 1269, 1572, 1778, 4116, 1236, 2635, 4911, 3422, 2526, 4000, 4000, 3206, 3787, 1470, 4608, 417, 3975, 3891, 3733, 3652, 3344, 3673, 872, 872, 1794, 2478, 539, 4242, 68, 1236, 4588, 258, 68, 1330, 3477, 1191, 298, 3043, 4080, 81, 4612, 3713, 1989, 2412, 2412, 3544, 1014, 1014, 3606, 1050, 1050, 3263, 3758, 1355, 1893, 3887, 2320, 4608, 4651, 2105, 1442, 4053, 2933, 3637, 3123, 3123, 2933, 4679, 117, 1021, 1992, 4674, 4076, 1010, 252, 2999, 3920, 4527, 4147, 2890, 741, 509, 380, 4976, 4115, 3263, 4887, 3375, 1013, 1013, 972, 1720, 3779, 3211, 4690, 3317, 311, 1112, 1112, 2371, 2452, 2697, 275, 985, 4939, 2930, 1162, 2719, 1883, 4256, 4330, 4330, 4408, 1579, 4116, 2269, 3224, 2289, 796, 872, 872, 3124, 2937, 3170, 1138, 1442, 1047, 1858, 1380, 4639, 298, 2426, 4644, 3407, 3453, 1622, 1622, 1622, 1459, 4650, 2993, 2340, 3647, 2916, 1177, 1177, 4643, 1794, 1091, 4109, 4109, 4109, 1711, 2608, 2907, 1217, 917, 917]\n",
      "[3276, 2472, 2472, 3449, 3449, 3611, 4703, 628, 1981, 3530, 1287, 2053, 264, 2660, 2041, 1384, 4392, 2472, 2472, 3120, 4883, 4936, 901, 1539, 329, 2895, 4917, 2192, 3989, 2303, 642, 3731, 3428, 3222, 884, 3764, 2365, 89, 1578, 2474, 1000, 1000, 1794, 1213, 3530, 392, 4583, 1025, 1109, 1267, 1348, 1656, 1327, 4128, 4128, 3206, 2522, 4461, 758, 4932, 3764, 412, 4742, 4932, 3670, 1523, 3809, 4702, 1957, 920, 4919, 388, 1287, 3011, 2588, 2588, 1456, 3986, 3986, 1394, 3950, 3950, 1737, 1242, 3645, 3107, 1113, 2680, 392, 349, 2895, 3558, 947, 2067, 1363, 1877, 1877, 2067, 321, 4883, 3979, 3008, 326, 924, 3990, 4748, 2001, 1080, 473, 853, 2110, 4259, 4491, 4620, 24, 885, 1737, 113, 1625, 3987, 3987, 4028, 3280, 1221, 1789, 310, 1683, 4689, 3888, 3888, 2629, 2548, 2303, 4725, 4015, 61, 2070, 3838, 2281, 3117, 744, 670, 670, 592, 3421, 884, 2731, 1776, 2711, 4204, 4128, 4128, 1876, 2063, 1830, 3862, 3558, 3953, 3142, 3620, 361, 4702, 2574, 356, 1593, 1547, 3378, 3378, 3378, 3541, 350, 2007, 2660, 1353, 2084, 3823, 3823, 357, 3206, 3909, 891, 891, 891, 3289, 2392, 2093, 3783, 4083, 4083]\n",
      "[4474, 3236, 2800, 7008, 3362, 3362, 4912, 2528, 2061, 6286, 7075, 5042, 4459, 7426, 2947, 8805, 8330, 7297, 2260, 2173, 3556, 2528, 6965, 5626, 8043, 2119, 6880, 8032, 8310, 5525, 9974, 9974, 5512, 4625, 6363, 5217, 5293, 7680, 4817, 4817, 6862, 8883, 3870, 8165, 4088, 5875, 3068, 4911, 2880, 6525, 6525, 6108, 2330, 2330, 5460, 4000, 7561, 7561, 7561, 9289, 4648, 8728, 4618, 4618, 8401, 8211, 8211, 4608, 4752, 4474, 9526, 5418, 3182, 7929, 5004, 5201, 5333, 7275, 9269, 5162, 7547, 4636, 5086, 3656, 7749, 8472, 5857, 7253, 6889, 2478, 9658, 7455, 8043, 4242, 6574, 3603, 9219, 5796, 7882, 9409, 9409, 8418, 4281, 9594, 9827, 6917, 2600, 4400, 7201, 6017, 8258, 4281, 4080, 8759, 8805, 9671, 7534, 7561, 7561, 7561, 2412, 2412, 2397, 2006, 6853, 9464, 7307, 7506, 8863, 5512, 2527, 8785, 9021, 5115, 3408, 3303, 6880, 9719, 8170, 6408, 3887, 2355, 5823, 9010, 9371, 8728, 8216, 3612, 3612, 6332, 9109, 9097, 3067, 3067, 8091, 2320, 2830, 4608, 3784, 8880, 4658, 3772, 3772, 8807, 8010, 8579, 2119, 6609, 8919, 9915, 4053, 2689, 4508, 8191, 3637, 8011, 9236, 3853, 3853, 6418, 7583, 7535, 6983, 4098, 6178, 4075, 4083, 4527, 9418, 8174, 4878, 8330, 8221, 3400, 6275, 3618, 8579, 6559, 2857, 5827, 8618, 8093, 8093, 5777, 8010, 4180, 7675, 3772, 3772, 4469, 2583, 4838, 5561, 5292, 6880, 3603, 8577, 2596, 2124, 5107, 2281, 8692, 7208, 2351, 4382, 7163, 7163, 5820, 4706, 4512, 4535, 3532, 9146, 9315, 6335, 6848, 7664, 3822, 3124, 2679, 2679, 6525, 6525, 5798, 8697, 8243, 6940, 8087, 7395, 8692, 7722, 4383, 7439, 8463, 4028, 6307, 9959, 6408, 4618, 4618, 3604, 3326, 4263, 6307, 8061, 5270, 7260, 6587, 4605, 2993, 9602, 4878, 6617, 2916, 7927, 2887, 9400, 9400, 5601, 5868, 4163, 7008, 4340, 2583, 5670, 2329, 6510, 9993, 4057, 4057]\n",
      "[7526, 8764, 9200, 4992, 8638, 8638, 7088, 9472, 9939, 5714, 4925, 6958, 7541, 4574, 9053, 3195, 3670, 4703, 9740, 9827, 8444, 9472, 5035, 6374, 3957, 9881, 5120, 3968, 3690, 6475, 2026, 2026, 6488, 7375, 5637, 6783, 6707, 4320, 7183, 7183, 5138, 3117, 8130, 3835, 7912, 6125, 8932, 7089, 9120, 5475, 5475, 5892, 9670, 9670, 6540, 8000, 4439, 4439, 4439, 2711, 7352, 3272, 7382, 7382, 3599, 3789, 3789, 7392, 7248, 7526, 2474, 6582, 8818, 4071, 6996, 6799, 6667, 4725, 2731, 6838, 4453, 7364, 6914, 8344, 4251, 3528, 6143, 4747, 5111, 9522, 2342, 4545, 3957, 7758, 5426, 8397, 2781, 6204, 4118, 2591, 2591, 3582, 7719, 2406, 2173, 5083, 9400, 7600, 4799, 5983, 3742, 7719, 7920, 3241, 3195, 2329, 4466, 4439, 4439, 4439, 9588, 9588, 9603, 9994, 5147, 2536, 4693, 4494, 3137, 6488, 9473, 3215, 2979, 6885, 8592, 8697, 5120, 2281, 3830, 5592, 8113, 9645, 6177, 2990, 2629, 3272, 3784, 8388, 8388, 5668, 2891, 2903, 8933, 8933, 3909, 9680, 9170, 7392, 8216, 3120, 7342, 8228, 8228, 3193, 3990, 3421, 9881, 5391, 3081, 2085, 7947, 9311, 7492, 3809, 8363, 3989, 2764, 8147, 8147, 5582, 4417, 4465, 5017, 7902, 5822, 7925, 7917, 7473, 2582, 3826, 7122, 3670, 3779, 8600, 5725, 8382, 3421, 5441, 9143, 6173, 3382, 3907, 3907, 6223, 3990, 7820, 4325, 8228, 8228, 7531, 9417, 7162, 6439, 6708, 5120, 8397, 3423, 9404, 9876, 6893, 9719, 3308, 4792, 9649, 7618, 4837, 4837, 6180, 7294, 7488, 7465, 8468, 2854, 2685, 5665, 5152, 4336, 8178, 8876, 9321, 9321, 5475, 5475, 6202, 3303, 3757, 5060, 3913, 4605, 3308, 4278, 7617, 4561, 3537, 7972, 5693, 2041, 5592, 7382, 7382, 8396, 8674, 7737, 5693, 3939, 6730, 4740, 5413, 7395, 9007, 2398, 7122, 5383, 9084, 4073, 9113, 2600, 2600, 6399, 6132, 7837, 4992, 7660, 9417, 6330, 9671, 5490, 2007, 7943, 7943]\n"
     ]
    }
   ],
   "source": [
    "generate_numab(2000,1,10000,\"testing.txt\")\n",
    "generate_numab(2000,1,10000,\"testing1.txt\")\n",
    "\n",
    "sum_problem(\"testing.txt\",\"testing1.txt\",5000)\n",
    "sum_problem(\"testing.txt\",\"testing1.txt\",12000)"
   ]
  },
  {
   "cell_type": "code",
   "execution_count": null,
   "metadata": {},
   "outputs": [],
   "source": []
  },
  {
   "cell_type": "markdown",
   "metadata": {},
   "source": [
    "# Classes"
   ]
  },
  {
   "cell_type": "code",
   "execution_count": 70,
   "metadata": {},
   "outputs": [],
   "source": [
    "class Rational():\n",
    "        \n",
    "    def __init__(self, p, q):\n",
    "        if q == 0:\n",
    "            raise ValueError(\"Denominator must be zero!\")\n",
    "        \n",
    "        gcd = self.gcd(p,q)\n",
    "        self.p = p/gcd\n",
    "        self.q = q/gcd\n",
    "        \n",
    "    def __str__(self):\n",
    "        if self.p == 0:\n",
    "            return \"{}\".format(self.p)\n",
    "        elif self.q == 1:\n",
    "            return \"{}\".format(self.p)\n",
    "        elif self.p < 0 or self.q < 0:\n",
    "            return \"- {} / {}\".format(abs(self.p), abs(self.q))\n",
    "        \n",
    "        return \"{} / {}\".format(self.p, self.q)\n",
    "    \n",
    "    def __add__(self, rat):\n",
    "        result = Rational((self.p * rat.q) + \n",
    "                          (rat.p * self.q), self.q * rat.q)\n",
    "        return result\n",
    "    \n",
    "    def __sub__(self, rat):\n",
    "        result = Rational((self.p * rat.q) - \n",
    "                          (rat.p * self.q), self.q * rat.q)\n",
    "        return result\n",
    "    \n",
    "    def __mul__(self, rat):\n",
    "        result = Rational(self.p * rat.p, self.q * rat.q)\n",
    "        return result\n",
    "    \n",
    "    def __div__(self, rat):\n",
    "        result = Rational(self.p * rat.q, self.q * rat.p)\n",
    "        return result\n",
    "    \n",
    "    def __equal__(self, rat):\n",
    "        return (self.p == rat.p and self.q == rat.q) \n",
    "    \n",
    "    def __float__(self):\n",
    "        return float(self.p) / float(self.q)\n",
    "    \n",
    "    def gcd(self, a, b):\n",
    "        if a == 0:\n",
    "            return b\n",
    "        elif b == 0:\n",
    "            return a\n",
    "        elif a > b:\n",
    "            q = a / b\n",
    "            r = a % b\n",
    "            return self.gcd(b,r)\n",
    "        elif a < b:\n",
    "            q = b / a\n",
    "            r = b % a\n",
    "            return self.gcd(a,r)\n",
    "        else:\n",
    "            return a"
   ]
  },
  {
   "cell_type": "code",
   "execution_count": 58,
   "metadata": {},
   "outputs": [
    {
     "data": {
      "text/plain": [
       "'2.0 / 5.0'"
      ]
     },
     "execution_count": 58,
     "metadata": {},
     "output_type": "execute_result"
    }
   ],
   "source": [
    "rats = Rational(2,5)\n",
    "rats.__str__()"
   ]
  },
  {
   "cell_type": "code",
   "execution_count": 59,
   "metadata": {},
   "outputs": [
    {
     "data": {
      "text/plain": [
       "'1.0 / 157.0'"
      ]
     },
     "execution_count": 59,
     "metadata": {},
     "output_type": "execute_result"
    }
   ],
   "source": [
    "rats = Rational(5,785)\n",
    "rats.__str__()"
   ]
  },
  {
   "cell_type": "code",
   "execution_count": 66,
   "metadata": {},
   "outputs": [
    {
     "data": {
      "text/plain": [
       "'1.0 / 15.0'"
      ]
     },
     "execution_count": 66,
     "metadata": {},
     "output_type": "execute_result"
    }
   ],
   "source": [
    "rats = Rational(7,15)\n",
    "rats1 = Rational(2,5)\n",
    "rats2 = rats.__sub__(rats1)\n",
    "rats2.__str__()"
   ]
  },
  {
   "cell_type": "code",
   "execution_count": 67,
   "metadata": {},
   "outputs": [
    {
     "data": {
      "text/plain": [
       "'14.0 / 75.0'"
      ]
     },
     "execution_count": 67,
     "metadata": {},
     "output_type": "execute_result"
    }
   ],
   "source": [
    "rats = Rational(7,15)\n",
    "rats1 = Rational(2,5)\n",
    "rats2 = rats.__mul__(rats1)\n",
    "rats2.__str__()"
   ]
  },
  {
   "cell_type": "code",
   "execution_count": 68,
   "metadata": {},
   "outputs": [
    {
     "data": {
      "text/plain": [
       "'7.0 / 6.0'"
      ]
     },
     "execution_count": 68,
     "metadata": {},
     "output_type": "execute_result"
    }
   ],
   "source": [
    "rats = Rational(7,15)\n",
    "rats1 = Rational(2,5)\n",
    "rats2 = rats.__div__(rats1)\n",
    "rats2.__str__()"
   ]
  },
  {
   "cell_type": "code",
   "execution_count": 72,
   "metadata": {},
   "outputs": [
    {
     "data": {
      "text/plain": [
       "False"
      ]
     },
     "execution_count": 72,
     "metadata": {},
     "output_type": "execute_result"
    }
   ],
   "source": [
    "rats = Rational(7,15)\n",
    "rats1 = Rational(2,5)\n",
    "rats.__equal__(rats1)"
   ]
  },
  {
   "cell_type": "code",
   "execution_count": 73,
   "metadata": {},
   "outputs": [
    {
     "data": {
      "text/plain": [
       "0.045"
      ]
     },
     "execution_count": 73,
     "metadata": {},
     "output_type": "execute_result"
    }
   ],
   "source": [
    "rats = Rational(9,200)\n",
    "rats.__float__()"
   ]
  },
  {
   "cell_type": "markdown",
   "metadata": {},
   "source": [
    "## 8.2"
   ]
  },
  {
   "cell_type": "code",
   "execution_count": 2,
   "metadata": {},
   "outputs": [],
   "source": [
    "def compare(self, first, second):\n",
    "    # 1 first wins 0 tie or second wins\n",
    "    if (first=='r' and second=='s') or (first=='p' and second=='r') or (first=='s' and second=='p'):\n",
    "        return 1\n",
    "    else:\n",
    "        return 0"
   ]
  },
  {
   "cell_type": "code",
   "execution_count": 3,
   "metadata": {},
   "outputs": [],
   "source": [
    "def getMove(self, move1, move2):\n",
    "    moves = ['r', 'p', 's']\n",
    "    move = ''\n",
    "    while True:\n",
    "        move_select=str(input('\\tEnter move as r,p or s >>  ')).lower()\n",
    "        if move_select in moves:\n",
    "            move = move_select\n",
    "            break\n",
    "        else:\n",
    "            print('No Cheating')\n",
    "    return move"
   ]
  },
  {
   "cell_type": "code",
   "execution_count": null,
   "metadata": {},
   "outputs": [],
   "source": []
  },
  {
   "cell_type": "markdown",
   "metadata": {},
   "source": [
    "## 8.3"
   ]
  },
  {
   "cell_type": "markdown",
   "metadata": {},
   "source": [
    "## 8.4"
   ]
  },
  {
   "cell_type": "markdown",
   "metadata": {},
   "source": [
    "## 8.5"
   ]
  },
  {
   "cell_type": "code",
   "execution_count": 8,
   "metadata": {},
   "outputs": [
    {
     "name": "stdout",
     "output_type": "stream",
     "text": [
      "{1: 'a', 2: 'b', 3: 'c', 4: 'd', 5: None}\n",
      "{1: None, 2: None, 3: None, 4: None, 5: None}\n",
      "{3: None}\n",
      "{1: None, 2: None}\n",
      "{1: None, 2: None, 4: None, 5: None}\n"
     ]
    }
   ],
   "source": [
    "class mySet():\n",
    "    \n",
    "    def __init__(self, dictn):\n",
    "        self.dictn = dictn\n",
    "        \n",
    "    def add(self,el):\n",
    "        self.dictn[el] = None\n",
    "        \n",
    "    def discard(self,el):\n",
    "        self.dictn.pop(el)\n",
    "        \n",
    "    def pop(self):\n",
    "        return self.dictn.popitem()\n",
    "    \n",
    "    def union(self,other):\n",
    "        result = mySet({})\n",
    "        for element in self.dictn:\n",
    "            result.add(element)\n",
    "        for element in other.dictn:\n",
    "            result.add(element)\n",
    "        return result\n",
    "            \n",
    "    def intersect(self,other):\n",
    "        result = mySet({})\n",
    "        for element in other.dictn:\n",
    "            if element in self.dictn:\n",
    "                result.add(element)\n",
    "        return result \n",
    "    \n",
    "    def difference(self,other):\n",
    "        result = mySet({})\n",
    "        for element in self.dictn:\n",
    "            if element not in other.dictn:\n",
    "                result.add(element)\n",
    "        return result  \n",
    "    \n",
    "    def symmetric_difference(self,other):\n",
    "        result = mySet({})\n",
    "        u = self.union(other)\n",
    "        i = self.intersect(other)\n",
    "        for element in u.dictn:\n",
    "            if element not in i.dictn:\n",
    "                result.add(element)\n",
    "        return result  \n",
    "    \n",
    "    \n",
    "aaa = mySet({1:\"a\",2:\"b\",3:\"c\",4:\"d\"})\n",
    "aaa.add(5)\n",
    "print(aaa.dictn)\n",
    "x = mySet({1:\"a\",2:\"b\",3:\"c\"})\n",
    "y = mySet({3:\"c\",4:\"d\",5:\"e\"})\n",
    "z = x.union(y)\n",
    "print(z.dictn)\n",
    "t = x.intersect(y)\n",
    "print(t.dictn)\n",
    "p = x.difference(y)\n",
    "print(p.dictn)\n",
    "r = x.symmetric_difference(y)\n",
    "print(r.dictn)"
   ]
  },
  {
   "cell_type": "markdown",
   "metadata": {},
   "source": [
    "## 8.6 "
   ]
  },
  {
   "cell_type": "code",
   "execution_count": 120,
   "metadata": {},
   "outputs": [],
   "source": [
    "class Node():\n",
    "    def __init__(self, value):\n",
    "        self.left = None\n",
    "        self.right = None\n",
    "        self.value = value"
   ]
  },
  {
   "cell_type": "code",
   "execution_count": 121,
   "metadata": {},
   "outputs": [
    {
     "name": "stdout",
     "output_type": "stream",
     "text": [
      "b\n",
      "a\n",
      "d\n",
      "c\n"
     ]
    }
   ],
   "source": [
    "class BinaryTree():\n",
    "\n",
    "    def __init__(self,value):\n",
    "      self.left = None\n",
    "      self.right = None\n",
    "      self.value = value\n",
    "\n",
    "    def getLeftChild(self):\n",
    "        return self.left\n",
    "    \n",
    "    def getRightChild(self):\n",
    "        return self.right\n",
    "    \n",
    "    def setNodeValue(self,value):\n",
    "        self.value = value\n",
    "        \n",
    "    def getNodeValue(self):\n",
    "        return self.value\n",
    "\n",
    "    def insertRight(self,newNode):\n",
    "        if self.right == None:\n",
    "            self.right = BinaryTree(newNode)\n",
    "        else:\n",
    "            tree = BinaryTree(newNode)\n",
    "            tree.right = self.right\n",
    "            self.right = tree\n",
    "        \n",
    "    def insertLeft(self,newNode):\n",
    "        if self.left == None:\n",
    "            self.left = BinaryTree(newNode)\n",
    "        else:\n",
    "            tree = BinaryTree(newNode)\n",
    "            tree.left = self.left\n",
    "            self.left = tree\n",
    "        \n",
    "        \n",
    "\n",
    "def printTree(tree):\n",
    "        if tree != None:\n",
    "            printTree(tree.getLeftChild())\n",
    "            print(tree.getNodeValue())\n",
    "            printTree(tree.getRightChild())\n",
    "            \n",
    "\n",
    "\n",
    "\n",
    "my = BinaryTree(\"a\")\n",
    "my.insertLeft(\"b\")\n",
    "my.insertRight(\"c\")\n",
    "my.insertRight(\"d\")\n",
    "\n",
    "printTree(my)   "
   ]
  },
  {
   "cell_type": "markdown",
   "metadata": {},
   "source": [
    "## 8.7 "
   ]
  },
  {
   "cell_type": "code",
   "execution_count": 1,
   "metadata": {},
   "outputs": [],
   "source": [
    "import numpy as np\n",
    "from scipy import optimize \n",
    "\n",
    "class OLS():\n",
    "    def __init__(self):\n",
    "        pass\n",
    "    def fit(self):\n",
    "        #I have written all the ways I can because I did not understand what is asked clearly\n",
    "        alpha = np.dot((np.dot(np.linalg.inv(np.dot(A.T,A)),A.T)),y)\n",
    "        print(alpha)\n",
    "\n",
    "        pinv = np.linalg.pinv(A)\n",
    "        alpha = pinv.dot(y)\n",
    "        print(alpha)\n",
    "        \n",
    "        alpha = np.linalg.lstsq(A, y, rcond=None)[0]\n",
    "        print(alpha)\n",
    "        pass\n",
    "    def predict(self, y,n):\n",
    "        A = np.vstack([x, np.ones(len(x))]).T\n",
    "        y = y[:, np.newaxis]\n",
    "        x = np.linspace(0, 1, 101)\n",
    "        y = 1 + x + x * np.random.random(len(x))\n",
    "        def func(x, a, b):\n",
    "            y = a*x + b\n",
    "            return y\n",
    "        alpha = optimize.curve_fit(func, xdata = x, ydata = y)[0]\n",
    "        print(alpha)\n",
    "        pass\n",
    "    def summarize(self):\n",
    "        pass"
   ]
  }
 ],
 "metadata": {
  "kernelspec": {
   "display_name": "Python 3",
   "language": "python",
   "name": "python3"
  },
  "language_info": {
   "codemirror_mode": {
    "name": "ipython",
    "version": 3
   },
   "file_extension": ".py",
   "mimetype": "text/x-python",
   "name": "python",
   "nbconvert_exporter": "python",
   "pygments_lexer": "ipython3",
   "version": "3.8.5"
  }
 },
 "nbformat": 4,
 "nbformat_minor": 4
}
